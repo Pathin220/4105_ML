{
  "nbformat": 4,
  "nbformat_minor": 0,
  "metadata": {
    "colab": {
      "provenance": [],
      "authorship_tag": "ABX9TyN0ta1qIPycgU3uwvjYXiCj",
      "include_colab_link": true
    },
    "kernelspec": {
      "name": "python3",
      "display_name": "Python 3"
    },
    "language_info": {
      "name": "python"
    }
  },
  "cells": [
    {
      "cell_type": "markdown",
      "metadata": {
        "id": "view-in-github",
        "colab_type": "text"
      },
      "source": [
        "<a href=\"https://colab.research.google.com/github/Pathin220/4105_ML/blob/main/4105_Hw_5.ipynb\" target=\"_parent\"><img src=\"https://colab.research.google.com/assets/colab-badge.svg\" alt=\"Open In Colab\"/></a>"
      ]
    },
    {
      "cell_type": "code",
      "execution_count": 1,
      "metadata": {
        "id": "ehLRpXAls-6I"
      },
      "outputs": [],
      "source": [
        "#1. In our temperature prediction example, let’s change our model to a nonlinear system. Consider the following description for our model:\n",
        "\n",
        "#w2 * t_u ** 2 + w1 * t_u + b.\n",
        "\n",
        "#1.a Modify the training loop properly to accommodate this redefinition.\n",
        "\n",
        "#1.b Use 5000 epochs for your training. Explore different learning rates from 0.1 to 0.0001 (you need four separate trainings).\n",
        "#Report your loss for every 500 epochs per training.\n",
        "\n",
        "#1.c Pick the best non-linear model and compare your final best loss against the linear model that we did during the lecture.\n",
        "#For this, visualize the non-linear model against the linear model over the input dataset, as we did during the lecture. Is the actual result better or worse than our baseline linear model?"
      ]
    }
  ]
}