{
  "nbformat": 4,
  "nbformat_minor": 0,
  "metadata": {
    "colab": {
      "provenance": [],
      "authorship_tag": "ABX9TyNhQGAsoNfkH9G91Egjzmik",
      "include_colab_link": true
    },
    "kernelspec": {
      "name": "python3",
      "display_name": "Python 3"
    },
    "language_info": {
      "name": "python"
    }
  },
  "cells": [
    {
      "cell_type": "markdown",
      "metadata": {
        "id": "view-in-github",
        "colab_type": "text"
      },
      "source": [
        "<a href=\"https://colab.research.google.com/github/Pathin220/4105_ML/blob/main/4105_Hw_5.ipynb\" target=\"_parent\"><img src=\"https://colab.research.google.com/assets/colab-badge.svg\" alt=\"Open In Colab\"/></a>"
      ]
    },
    {
      "cell_type": "code",
      "source": [
        "import torch\n",
        "import tensorflow\n",
        "import matplotlib.pyplot as plt\n",
        "import numpy as np\n",
        "import torch.nn as nn\n",
        "import torch.optim as optim"
      ],
      "metadata": {
        "id": "t8ZemFFSoF8-"
      },
      "execution_count": 968,
      "outputs": []
    },
    {
      "cell_type": "code",
      "execution_count": 969,
      "metadata": {
        "id": "ehLRpXAls-6I"
      },
      "outputs": [],
      "source": [
        "#1. In our temperature prediction example, let’s change our model to a nonlinear system. Consider the following description for our model:\n",
        "\n",
        "#w2 * t_u ** 2 + w1 * t_u + b.\n",
        "\n",
        "#1.a Modify the training loop properly to accommodate this redefinition.\n",
        "\n",
        "#1.b Use 5000 epochs for your training. Explore different learning rates from 0.1 to 0.0001 (you need four separate trainings).\n",
        "#Report your loss for every 500 epochs per training.\n",
        "\n",
        "#1.c Pick the best non-linear model and compare your final best loss against the linear model that we did during the lecture.\n",
        "#For this, visualize the non-linear model against the linear model over the input dataset, as we did during the lecture. Is the actual result better or worse than our baseline linear model?"
      ]
    },
    {
      "cell_type": "code",
      "source": [
        "#setting values in array for X which is t_C and Y which is t_U\n",
        "t_c = [0.5, 14.0, 15.0, 28.0, 11.0, 8.0, 3.0, -4.0, 6.0, 13.0, 21.0]\n",
        "t_u = [35.7, 55.9, 58.2, 81.9, 56.3, 48.9, 33.9, 21.8, 48.4, 60.4, 68.4]\n",
        "t_c = torch.tensor(t_c)\n",
        "t_u = torch.tensor(t_u)\n",
        "t_un = 0.01 * t_u\n",
        "params = torch.tensor([1.0, 1.0, 0.0], requires_grad=True)"
      ],
      "metadata": {
        "id": "GEBuSs8aoFQ-"
      },
      "execution_count": 970,
      "outputs": []
    },
    {
      "cell_type": "code",
      "source": [
        "print(t_c)\n",
        "print(t_u)\n"
      ],
      "metadata": {
        "colab": {
          "base_uri": "https://localhost:8080/"
        },
        "id": "RT2tGXWfp_QR",
        "outputId": "06c93565-b001-445b-b4ea-704315bf33c7"
      },
      "execution_count": 971,
      "outputs": [
        {
          "output_type": "stream",
          "name": "stdout",
          "text": [
            "tensor([ 0.5000, 14.0000, 15.0000, 28.0000, 11.0000,  8.0000,  3.0000, -4.0000,\n",
            "         6.0000, 13.0000, 21.0000])\n",
            "tensor([35.7000, 55.9000, 58.2000, 81.9000, 56.3000, 48.9000, 33.9000, 21.8000,\n",
            "        48.4000, 60.4000, 68.4000])\n"
          ]
        }
      ]
    },
    {
      "cell_type": "code",
      "source": [
        "#defining the nonlinear model\n",
        "def nonlin_model(t_u, w2, w1, b):\n",
        "    return w2 * t_u**2 + w1 * t_u + b"
      ],
      "metadata": {
        "id": "5rbiJQw8qyQa"
      },
      "execution_count": 972,
      "outputs": []
    },
    {
      "cell_type": "code",
      "source": [
        "#defining the linear model\n",
        "def lin_model(t_u, w, b):\n",
        "    return w * t_u + b"
      ],
      "metadata": {
        "id": "lbbwi_GFs2Y9"
      },
      "execution_count": 973,
      "outputs": []
    },
    {
      "cell_type": "code",
      "source": [
        "def loss_fn(t_p, t_c):\n",
        "    squared_diffs = (t_p - t_c)**2\n",
        "    return squared_diffs.mean()"
      ],
      "metadata": {
        "id": "nYs1iyJhr2YT"
      },
      "execution_count": 974,
      "outputs": []
    },
    {
      "cell_type": "code",
      "source": [
        "\n",
        "w2 = torch.ones(())\n",
        "w1 = torch.ones(())\n",
        "b = torch.zeros(())\n",
        "\n",
        "t_p = nonlin_model(t_u, w2, w1, b)\n",
        "t_p"
      ],
      "metadata": {
        "colab": {
          "base_uri": "https://localhost:8080/"
        },
        "id": "xuwPIB0vsU8N",
        "outputId": "e1321e02-62df-4e14-e17c-f90f47cd7cc5"
      },
      "execution_count": 975,
      "outputs": [
        {
          "output_type": "execute_result",
          "data": {
            "text/plain": [
              "tensor([1310.1901, 3180.7100, 3445.4399, 6789.5103, 3225.9900, 2440.1101,\n",
              "        1183.1101,  497.0399, 2390.9600, 3708.5601, 4746.9600])"
            ]
          },
          "metadata": {},
          "execution_count": 975
        }
      ]
    },
    {
      "cell_type": "code",
      "source": [
        "#computing the loss\n",
        "loss = loss_fn(t_p, t_c)\n",
        "loss\n",
        ""
      ],
      "metadata": {
        "colab": {
          "base_uri": "https://localhost:8080/"
        },
        "id": "8xPeTxRjw9rr",
        "outputId": "6f1db328-7ef2-4181-9bda-23472c6a15b7"
      },
      "execution_count": 976,
      "outputs": [
        {
          "output_type": "execute_result",
          "data": {
            "text/plain": [
              "tensor(11709471.)"
            ]
          },
          "metadata": {},
          "execution_count": 976
        }
      ]
    },
    {
      "cell_type": "code",
      "source": [
        "# Non-linear training loop\n",
        "def nonlin_training_loop (n_epochs, params, t_u, t_c, learning_rate):\n",
        "    print(f'Learning Rate: {learning_rate}')\n",
        "    for epoch in range(1, n_epochs+1):\n",
        "        w1, w2, b = params\n",
        "        t_p = nonlin_model (t_u, w1, w2, b)\n",
        "        loss = loss_fn(t_p, t_c)\n",
        "\n",
        "        optimizer.zero_grad()\n",
        "        loss.backward()\n",
        "        optimizer.step()\n",
        "\n",
        "        if epoch % 500 == 0:\n",
        "            print ('Epoch %d, Loss %f' % (epoch, float(loss)))\n",
        "    return params, loss"
      ],
      "metadata": {
        "id": "gNEciijVtMIW"
      },
      "execution_count": 977,
      "outputs": []
    },
    {
      "cell_type": "code",
      "source": [
        "# Linear training loop\n",
        "def lin_training_loop (n_epochs, optimizer, params, t_u, t_c):\n",
        "    for epoch in range(1, n_epochs+1):\n",
        "        t_p = lin_model (t_u, *params)\n",
        "        loss = loss_fn(t_p, t_c)\n",
        "\n",
        "        optimizer.zero_grad()\n",
        "        loss.backward()\n",
        "        optimizer.step()\n",
        "\n",
        "        if epoch % 500 == 0:\n",
        "            print ('Epoch %d, Loss %f' % (epoch, float(loss)))\n",
        "    return params, loss"
      ],
      "metadata": {
        "id": "QQwRckuNyLaL"
      },
      "execution_count": 978,
      "outputs": []
    },
    {
      "cell_type": "code",
      "source": [],
      "metadata": {
        "id": "7HgRM8IP3KM1"
      },
      "execution_count": 978,
      "outputs": []
    },
    {
      "cell_type": "code",
      "source": [
        "learning_rate = [0.1, 0.01, 0.001, 0.0001]\n",
        "train_params = torch.zeros(len(learning_rate), 3)\n",
        "train_loss = torch.zeros(len(learning_rate), 1)\n",
        "linear_train_params = torch.zeros(1, 2)\n",
        "linear_train_loss = torch.zeros(1, 1)\n",
        "\n"
      ],
      "metadata": {
        "id": "CGdfTe5b144w"
      },
      "execution_count": 979,
      "outputs": []
    },
    {
      "cell_type": "code",
      "source": [
        "for i in learning_rate:\n",
        "    params = torch.tensor([1.0, 1.0, 0.0], requires_grad=True)\n",
        "    optimizer = optim.SGD([params], lr=i)\n",
        "    print(f'\\nTraining with learning rate: {learning_rate}')\n",
        "    train_params[learning_rate.index(i)], train_loss[learning_rate.index(i)] = nonlin_training_loop(\n",
        "        n_epochs = 5000,\n",
        "        params = params,\n",
        "        t_u = t_un,\n",
        "        t_c = t_c,\n",
        "        learning_rate = i\n",
        "        )"
      ],
      "metadata": {
        "colab": {
          "base_uri": "https://localhost:8080/"
        },
        "id": "nLpD-Uf72Ugv",
        "outputId": "8442f232-0c30-4016-e450-4cf862d08fc2"
      },
      "execution_count": 980,
      "outputs": [
        {
          "output_type": "stream",
          "name": "stdout",
          "text": [
            "\n",
            "Training with learning rate: [0.1, 0.01, 0.001, 0.0001]\n",
            "Learning Rate: 0.1\n",
            "Epoch 500, Loss 2.108456\n",
            "Epoch 1000, Loss 2.090728\n",
            "Epoch 1500, Loss 2.090720\n",
            "Epoch 2000, Loss 2.090720\n",
            "Epoch 2500, Loss 2.090721\n",
            "Epoch 3000, Loss 2.090719\n",
            "Epoch 3500, Loss 2.090720\n",
            "Epoch 4000, Loss 2.090720\n",
            "Epoch 4500, Loss 2.090720\n",
            "Epoch 5000, Loss 2.090720\n",
            "\n",
            "Training with learning rate: [0.1, 0.01, 0.001, 0.0001]\n",
            "Learning Rate: 0.01\n",
            "Epoch 500, Loss 26.266186\n",
            "Epoch 1000, Loss 12.949670\n",
            "Epoch 1500, Loss 6.968258\n",
            "Epoch 2000, Loss 4.281574\n",
            "Epoch 2500, Loss 3.074787\n",
            "Epoch 3000, Loss 2.532740\n",
            "Epoch 3500, Loss 2.289264\n",
            "Epoch 4000, Loss 2.179901\n",
            "Epoch 4500, Loss 2.130778\n",
            "Epoch 5000, Loss 2.108713\n",
            "\n",
            "Training with learning rate: [0.1, 0.01, 0.001, 0.0001]\n",
            "Learning Rate: 0.001\n",
            "Epoch 500, Loss 58.822189\n",
            "Epoch 1000, Loss 48.348232\n",
            "Epoch 1500, Loss 44.396774\n",
            "Epoch 2000, Loss 41.118404\n",
            "Epoch 2500, Loss 38.115955\n",
            "Epoch 3000, Loss 35.345898\n",
            "Epoch 3500, Loss 32.788918\n",
            "Epoch 4000, Loss 30.428556\n",
            "Epoch 4500, Loss 28.249678\n",
            "Epoch 5000, Loss 26.238340\n",
            "\n",
            "Training with learning rate: [0.1, 0.01, 0.001, 0.0001]\n",
            "Learning Rate: 0.0001\n",
            "Epoch 500, Loss 138.825058\n",
            "Epoch 1000, Loss 118.428955\n",
            "Epoch 1500, Loss 102.817139\n",
            "Epoch 2000, Loss 90.845161\n",
            "Epoch 2500, Loss 81.642403\n",
            "Epoch 3000, Loss 74.546761\n",
            "Epoch 3500, Loss 69.054512\n",
            "Epoch 4000, Loss 64.782639\n",
            "Epoch 4500, Loss 61.439720\n",
            "Epoch 5000, Loss 58.804115\n"
          ]
        }
      ]
    },
    {
      "cell_type": "code",
      "source": [
        "lin_params = torch.tensor([1.0, 0.0], requires_grad=True)\n",
        "learning_rate = 0.0001\n",
        "optimizer = optim.SGD([lin_params], lr=learning_rate)\n",
        "print(f'Linear model with LR={learning_rate}')\n",
        "lin_train_params, lin_train_loss = lin_training_loop(\n",
        "    n_epochs = 5000,\n",
        "    optimizer = optimizer,\n",
        "    params = lin_params,\n",
        "    t_u = t_un,\n",
        "    t_c = t_c)"
      ],
      "metadata": {
        "colab": {
          "base_uri": "https://localhost:8080/"
        },
        "id": "rv1-PbFs4WIz",
        "outputId": "0e89a3f3-48a1-4bca-821c-50b09801b060"
      },
      "execution_count": 981,
      "outputs": [
        {
          "output_type": "stream",
          "name": "stdout",
          "text": [
            "Linear model with LR=0.0001\n",
            "Epoch 500, Loss 148.936188\n",
            "Epoch 1000, Loss 129.383041\n",
            "Epoch 1500, Loss 114.174385\n",
            "Epoch 2000, Loss 102.333252\n",
            "Epoch 2500, Loss 93.102386\n",
            "Epoch 3000, Loss 85.894829\n",
            "Epoch 3500, Loss 80.255722\n",
            "Epoch 4000, Loss 75.832474\n",
            "Epoch 4500, Loss 72.351837\n",
            "Epoch 5000, Loss 69.601959\n"
          ]
        }
      ]
    },
    {
      "cell_type": "code",
      "source": [
        "train_params"
      ],
      "metadata": {
        "colab": {
          "base_uri": "https://localhost:8080/"
        },
        "id": "IpafcMRAGjQe",
        "outputId": "bfe01124-b85c-4259-f4b7-53063d15796a"
      },
      "execution_count": 982,
      "outputs": [
        {
          "output_type": "execute_result",
          "data": {
            "text/plain": [
              "tensor([[ 28.3420,  24.7210, -10.6403],\n",
              "        [ 27.9050,  24.3412, -10.3017],\n",
              "        [ 11.6079,  11.5393,   1.5983],\n",
              "        [  3.7440,   4.8014,   4.9612]], grad_fn=<CopySlices>)"
            ]
          },
          "metadata": {},
          "execution_count": 982
        }
      ]
    },
    {
      "cell_type": "code",
      "source": [
        "best_params = train_params[3]\n",
        "nonlin_t_p = nonlin_model(t_un, *best_params)\n",
        "lin_t_p = lin_model(t_un, *lin_train_params)"
      ],
      "metadata": {
        "id": "LioXxKJuHZNM"
      },
      "execution_count": 983,
      "outputs": []
    },
    {
      "cell_type": "code",
      "source": [
        "\n",
        "\n",
        "# Plot the actual data\n",
        "plt.plot(t_u.numpy(), t_c.numpy(), label='Actual data', linestyle='--')\n",
        "\n",
        "# Plot the linear model predictions\n",
        "plt.plot(t_u.numpy(), t_p.numpy(), 'r', label='Linear model', linestyle='--')\n",
        "\n",
        "# Plot the non-linear model predictions\n",
        "plt.plot(t_u.numpy(), t_p.numpy(), 'b', label='Nonlinear model', linestyle='-')\n",
        "\n",
        "plt.legend()\n",
        "plt.xlabel('(t_u)')\n",
        "plt.ylabel('(t_c)')\n",
        "plt.title('Comparison')\n",
        "plt.show()"
      ],
      "metadata": {
        "colab": {
          "base_uri": "https://localhost:8080/",
          "height": 472
        },
        "id": "cuHQ7wOrH2wr",
        "outputId": "ea9c751c-8373-4a63-a83c-6065c056e2fd"
      },
      "execution_count": 984,
      "outputs": [
        {
          "output_type": "display_data",
          "data": {
            "text/plain": [
              "<Figure size 640x480 with 1 Axes>"
            ],
            "image/png": "[encoded data removed]"
          },
          "metadata": {}
        }
      ]
    }
  ]
}