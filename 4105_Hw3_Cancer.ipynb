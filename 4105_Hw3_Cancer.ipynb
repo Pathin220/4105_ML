{
  "nbformat": 4,
  "nbformat_minor": 0,
  "metadata": {
    "colab": {
      "provenance": [],
      "authorship_tag": "ABX9TyPeu/z3j9AV9yBvtfMqYUyT",
      "include_colab_link": true
    },
    "kernelspec": {
      "name": "python3",
      "display_name": "Python 3"
    },
    "language_info": {
      "name": "python"
    }
  },
  "cells": [
    {
      "cell_type": "markdown",
      "metadata": {
        "id": "view-in-github",
        "colab_type": "text"
      },
      "source": [
        "<a href=\"https://colab.research.google.com/github/Pathin220/4105_ML/blob/main/4105_Hw3_Cancer.ipynb\" target=\"_parent\"><img src=\"https://colab.research.google.com/assets/colab-badge.svg\" alt=\"Open In Colab\"/></a>"
      ]
    },
    {
      "cell_type": "code",
      "execution_count": 3135,
      "metadata": {
        "id": "XWq19rip31sx"
      },
      "outputs": [],
      "source": [
        "#ECGR 4105 Homework 3\n",
        "#Patrick Hinman"
      ]
    },
    {
      "cell_type": "code",
      "source": [
        "#necessary libraries\n",
        "import numpy as np\n",
        "import pandas as pd\n",
        "import seaborn as sns\n",
        "from sklearn import preprocessing\n",
        "import matplotlib.pyplot as plt\n",
        "from sklearn.model_selection import KFold\n",
        "from sklearn.model_selection import cross_val_score\n",
        "from sklearn.linear_model import LogisticRegression\n",
        "from sklearn.naive_bayes import GaussianNB\n",
        "from sklearn.decomposition import PCA\n",
        "from sklearn import datasets\n",
        "from sklearn import metrics\n",
        "from sklearn.datasets import load_breast_cancer\n",
        "from sklearn.metrics import confusion_matrix\n",
        "from sklearn.metrics import classification_report\n",
        "from sklearn.model_selection import train_test_split\n",
        "from sklearn.preprocessing import StandardScaler\n",
        "from sklearn.preprocessing import MinMaxScaler\n",
        "from google.colab import drive\n",
        "drive.mount('/content/drive')"
      ],
      "metadata": {
        "colab": {
          "base_uri": "https://localhost:8080/"
        },
        "id": "esK2Os-h4B3g",
        "outputId": "91bebaff-f35d-440a-aefa-f2987bcf6937"
      },
      "execution_count": 3136,
      "outputs": [
        {
          "output_type": "stream",
          "name": "stdout",
          "text": [
            "Drive already mounted at /content/drive; to attempt to forcibly remount, call drive.mount(\"/content/drive\", force_remount=True).\n"
          ]
        }
      ]
    },
    {
      "cell_type": "code",
      "source": [
        "file_path = '/content/drive/My Drive/Machine Learning/cancer.csv'\n",
        "Cancer_data = pd.DataFrame(pd.read_csv(file_path))\n",
        "\n"
      ],
      "metadata": {
        "id": "wrYvNCUx4Epj"
      },
      "execution_count": 3137,
      "outputs": []
    },
    {
      "cell_type": "code",
      "source": [
        "#Problem 2\n",
        "#a. Use the cancer dataset to build a logistic regression model to classify the type of cancer (Malignant vs. benign).\n",
        "#First, create a logistic regression that takes all 30 input features for classification.\n",
        "#Please use 80% and 20% split between training and evaluation (test). Make sure to perform proper scaling and standardization before your training.\n",
        "#Report your classification accuracy over iterations. Also, report your results, including accuracy, precision, recall, and F1 score.\n",
        "#At the end, plot the confusion matrix representing your binary classifier.\n",
        "\n",
        "#b. How about adding a weight penalty here, considering the number of parameters?\n",
        "#Add the weight penalty repeat the training, and report the results."
      ],
      "metadata": {
        "id": "9r9Tpse3CEzb"
      },
      "execution_count": 3138,
      "outputs": []
    },
    {
      "cell_type": "code",
      "source": [
        "Cancer = Cancer_data.drop('Unnamed: 32', axis=1)\n",
        "Cancer.isnull().sum()*100/Cancer.shape[0]\n"
      ],
      "metadata": {
        "colab": {
          "base_uri": "https://localhost:8080/"
        },
        "id": "mK3VEQjengE_",
        "outputId": "8c46829f-5a08-4e54-a26a-34893236391a"
      },
      "execution_count": 3139,
      "outputs": [
        {
          "output_type": "execute_result",
          "data": {
            "text/plain": [
              "id                         0.0\n",
              "diagnosis                  0.0\n",
              "radius_mean                0.0\n",
              "texture_mean               0.0\n",
              "perimeter_mean             0.0\n",
              "area_mean                  0.0\n",
              "smoothness_mean            0.0\n",
              "compactness_mean           0.0\n",
              "concavity_mean             0.0\n",
              "concave points_mean        0.0\n",
              "symmetry_mean              0.0\n",
              "fractal_dimension_mean     0.0\n",
              "radius_se                  0.0\n",
              "texture_se                 0.0\n",
              "perimeter_se               0.0\n",
              "area_se                    0.0\n",
              "smoothness_se              0.0\n",
              "compactness_se             0.0\n",
              "concavity_se               0.0\n",
              "concave points_se          0.0\n",
              "symmetry_se                0.0\n",
              "fractal_dimension_se       0.0\n",
              "radius_worst               0.0\n",
              "texture_worst              0.0\n",
              "perimeter_worst            0.0\n",
              "area_worst                 0.0\n",
              "smoothness_worst           0.0\n",
              "compactness_worst          0.0\n",
              "concavity_worst            0.0\n",
              "concave points_worst       0.0\n",
              "symmetry_worst             0.0\n",
              "fractal_dimension_worst    0.0\n",
              "dtype: float64"
            ]
          },
          "metadata": {},
          "execution_count": 3139
        }
      ]
    },
    {
      "cell_type": "code",
      "source": [
        "#define the function to remap the diagnosis\n",
        "def binary_map(x):\n",
        "    return x.map({\"B\": 1, \"M\": 0})\n",
        "#remapping\n",
        "varlist = ['diagnosis']\n",
        "Cancer[varlist] = Cancer[varlist].apply(binary_map)"
      ],
      "metadata": {
        "id": "01oniHLd9jX-"
      },
      "execution_count": 3140,
      "outputs": []
    },
    {
      "cell_type": "code",
      "source": [
        "#creating new vectors\n",
        "Y = Cancer.pop('diagnosis')\n",
        "X = Cancer.drop('id', axis=1)\n",
        "X.head()"
      ],
      "metadata": {
        "colab": {
          "base_uri": "https://localhost:8080/",
          "height": 273
        },
        "id": "MIegExPo-Cmu",
        "outputId": "83027fe0-0d3c-4dec-c88a-72dec1c2c8a9"
      },
      "execution_count": 3141,
      "outputs": [
        {
          "output_type": "execute_result",
          "data": {
            "text/plain": [
              "   radius_mean  texture_mean  perimeter_mean  area_mean  smoothness_mean  \\\n",
              "0        17.99         10.38          122.80     1001.0          0.11840   \n",
              "1        20.57         17.77          132.90     1326.0          0.08474   \n",
              "2        19.69         21.25          130.00     1203.0          0.10960   \n",
              "3        11.42         20.38           77.58      386.1          0.14250   \n",
              "4        20.29         14.34          135.10     1297.0          0.10030   \n",
              "\n",
              "   compactness_mean  concavity_mean  concave points_mean  symmetry_mean  \\\n",
              "0           0.27760          0.3001              0.14710         0.2419   \n",
              "1           0.07864          0.0869              0.07017         0.1812   \n",
              "2           0.15990          0.1974              0.12790         0.2069   \n",
              "3           0.28390          0.2414              0.10520         0.2597   \n",
              "4           0.13280          0.1980              0.10430         0.1809   \n",
              "\n",
              "   fractal_dimension_mean  ...  radius_worst  texture_worst  perimeter_worst  \\\n",
              "0                 0.07871  ...         25.38          17.33           184.60   \n",
              "1                 0.05667  ...         24.99          23.41           158.80   \n",
              "2                 0.05999  ...         23.57          25.53           152.50   \n",
              "3                 0.09744  ...         14.91          26.50            98.87   \n",
              "4                 0.05883  ...         22.54          16.67           152.20   \n",
              "\n",
              "   area_worst  smoothness_worst  compactness_worst  concavity_worst  \\\n",
              "0      2019.0            0.1622             0.6656           0.7119   \n",
              "1      1956.0            0.1238             0.1866           0.2416   \n",
              "2      1709.0            0.1444             0.4245           0.4504   \n",
              "3       567.7            0.2098             0.8663           0.6869   \n",
              "4      1575.0            0.1374             0.2050           0.4000   \n",
              "\n",
              "   concave points_worst  symmetry_worst  fractal_dimension_worst  \n",
              "0                0.2654          0.4601                  0.11890  \n",
              "1                0.1860          0.2750                  0.08902  \n",
              "2                0.2430          0.3613                  0.08758  \n",
              "3                0.2575          0.6638                  0.17300  \n",
              "4                0.1625          0.2364                  0.07678  \n",
              "\n",
              "[5 rows x 30 columns]"
            ],
            "text/html": [
              "\n",
              "  <div id=\"df-4b8bf4eb-025d-48f4-8a96-d190be441ad7\" class=\"colab-df-container\">\n",
              "    <div>\n",
              "<style scoped>\n",
              "    .dataframe tbody tr th:only-of-type {\n",
              "        vertical-align: middle;\n",
              "    }\n",
              "\n",
              "    .dataframe tbody tr th {\n",
              "        vertical-align: top;\n",
              "    }\n",
              "\n",
              "    .dataframe thead th {\n",
              "        text-align: right;\n",
              "    }\n",
              "</style>\n",
              "<table border=\"1\" class=\"dataframe\">\n",
              "  <thead>\n",
              "    <tr style=\"text-align: right;\">\n",
              "      <th></th>\n",
              "      <th>radius_mean</th>\n",
              "      <th>texture_mean</th>\n",
              "      <th>perimeter_mean</th>\n",
              "      <th>area_mean</th>\n",
              "      <th>smoothness_mean</th>\n",
              "      <th>compactness_mean</th>\n",
              "      <th>concavity_mean</th>\n",
              "      <th>concave points_mean</th>\n",
              "      <th>symmetry_mean</th>\n",
              "      <th>fractal_dimension_mean</th>\n",
              "      <th>...</th>\n",
              "      <th>radius_worst</th>\n",
              "      <th>texture_worst</th>\n",
              "      <th>perimeter_worst</th>\n",
              "      <th>area_worst</th>\n",
              "      <th>smoothness_worst</th>\n",
              "      <th>compactness_worst</th>\n",
              "      <th>concavity_worst</th>\n",
              "      <th>concave points_worst</th>\n",
              "      <th>symmetry_worst</th>\n",
              "      <th>fractal_dimension_worst</th>\n",
              "    </tr>\n",
              "  </thead>\n",
              "  <tbody>\n",
              "    <tr>\n",
              "      <th>0</th>\n",
              "      <td>17.99</td>\n",
              "      <td>10.38</td>\n",
              "      <td>122.80</td>\n",
              "      <td>1001.0</td>\n",
              "      <td>0.11840</td>\n",
              "      <td>0.27760</td>\n",
              "      <td>0.3001</td>\n",
              "      <td>0.14710</td>\n",
              "      <td>0.2419</td>\n",
              "      <td>0.07871</td>\n",
              "      <td>...</td>\n",
              "      <td>25.38</td>\n",
              "      <td>17.33</td>\n",
              "      <td>184.60</td>\n",
              "      <td>2019.0</td>\n",
              "      <td>0.1622</td>\n",
              "      <td>0.6656</td>\n",
              "      <td>0.7119</td>\n",
              "      <td>0.2654</td>\n",
              "      <td>0.4601</td>\n",
              "      <td>0.11890</td>\n",
              "    </tr>\n",
              "    <tr>\n",
              "      <th>1</th>\n",
              "      <td>20.57</td>\n",
              "      <td>17.77</td>\n",
              "      <td>132.90</td>\n",
              "      <td>1326.0</td>\n",
              "      <td>0.08474</td>\n",
              "      <td>0.07864</td>\n",
              "      <td>0.0869</td>\n",
              "      <td>0.07017</td>\n",
              "      <td>0.1812</td>\n",
              "      <td>0.05667</td>\n",
              "      <td>...</td>\n",
              "      <td>24.99</td>\n",
              "      <td>23.41</td>\n",
              "      <td>158.80</td>\n",
              "      <td>1956.0</td>\n",
              "      <td>0.1238</td>\n",
              "      <td>0.1866</td>\n",
              "      <td>0.2416</td>\n",
              "      <td>0.1860</td>\n",
              "      <td>0.2750</td>\n",
              "      <td>0.08902</td>\n",
              "    </tr>\n",
              "    <tr>\n",
              "      <th>2</th>\n",
              "      <td>19.69</td>\n",
              "      <td>21.25</td>\n",
              "      <td>130.00</td>\n",
              "      <td>1203.0</td>\n",
              "      <td>0.10960</td>\n",
              "      <td>0.15990</td>\n",
              "      <td>0.1974</td>\n",
              "      <td>0.12790</td>\n",
              "      <td>0.2069</td>\n",
              "      <td>0.05999</td>\n",
              "      <td>...</td>\n",
              "      <td>23.57</td>\n",
              "      <td>25.53</td>\n",
              "      <td>152.50</td>\n",
              "      <td>1709.0</td>\n",
              "      <td>0.1444</td>\n",
              "      <td>0.4245</td>\n",
              "      <td>0.4504</td>\n",
              "      <td>0.2430</td>\n",
              "      <td>0.3613</td>\n",
              "      <td>0.08758</td>\n",
              "    </tr>\n",
              "    <tr>\n",
              "      <th>3</th>\n",
              "      <td>11.42</td>\n",
              "      <td>20.38</td>\n",
              "      <td>77.58</td>\n",
              "      <td>386.1</td>\n",
              "      <td>0.14250</td>\n",
              "      <td>0.28390</td>\n",
              "      <td>0.2414</td>\n",
              "      <td>0.10520</td>\n",
              "      <td>0.2597</td>\n",
              "      <td>0.09744</td>\n",
              "      <td>...</td>\n",
              "      <td>14.91</td>\n",
              "      <td>26.50</td>\n",
              "      <td>98.87</td>\n",
              "      <td>567.7</td>\n",
              "      <td>0.2098</td>\n",
              "      <td>0.8663</td>\n",
              "      <td>0.6869</td>\n",
              "      <td>0.2575</td>\n",
              "      <td>0.6638</td>\n",
              "      <td>0.17300</td>\n",
              "    </tr>\n",
              "    <tr>\n",
              "      <th>4</th>\n",
              "      <td>20.29</td>\n",
              "      <td>14.34</td>\n",
              "      <td>135.10</td>\n",
              "      <td>1297.0</td>\n",
              "      <td>0.10030</td>\n",
              "      <td>0.13280</td>\n",
              "      <td>0.1980</td>\n",
              "      <td>0.10430</td>\n",
              "      <td>0.1809</td>\n",
              "      <td>0.05883</td>\n",
              "      <td>...</td>\n",
              "      <td>22.54</td>\n",
              "      <td>16.67</td>\n",
              "      <td>152.20</td>\n",
              "      <td>1575.0</td>\n",
              "      <td>0.1374</td>\n",
              "      <td>0.2050</td>\n",
              "      <td>0.4000</td>\n",
              "      <td>0.1625</td>\n",
              "      <td>0.2364</td>\n",
              "      <td>0.07678</td>\n",
              "    </tr>\n",
              "  </tbody>\n",
              "</table>\n",
              "<p>5 rows × 30 columns</p>\n",
              "</div>\n",
              "    <div class=\"colab-df-buttons\">\n",
              "\n",
              "  <div class=\"colab-df-container\">\n",
              "    <button class=\"colab-df-convert\" onclick=\"convertToInteractive('df-4b8bf4eb-025d-48f4-8a96-d190be441ad7')\"\n",
              "            title=\"Convert this dataframe to an interactive table.\"\n",
              "            style=\"display:none;\">\n",
              "\n",
              "  <svg xmlns=\"http://www.w3.org/2000/svg\" height=\"24px\" viewBox=\"0 -960 960 960\">\n",
              "    <path d=\"M120-120v-720h720v720H120Zm60-500h600v-160H180v160Zm220 220h160v-160H400v160Zm0 220h160v-160H400v160ZM180-400h160v-160H180v160Zm440 0h160v-160H620v160ZM180-180h160v-160H180v160Zm440 0h160v-160H620v160Z\"/>\n",
              "  </svg>\n",
              "    </button>\n",
              "\n",
              "  <style>\n",
              "    .colab-df-container {\n",
              "      display:flex;\n",
              "      gap: 12px;\n",
              "    }\n",
              "\n",
              "    .colab-df-convert {\n",
              "      background-color: #E8F0FE;\n",
              "      border: none;\n",
              "      border-radius: 50%;\n",
              "      cursor: pointer;\n",
              "      display: none;\n",
              "      fill: #1967D2;\n",
              "      height: 32px;\n",
              "      padding: 0 0 0 0;\n",
              "      width: 32px;\n",
              "    }\n",
              "\n",
              "    .colab-df-convert:hover {\n",
              "      background-color: #E2EBFA;\n",
              "      box-shadow: 0px 1px 2px rgba(60, 64, 67, 0.3), 0px 1px 3px 1px rgba(60, 64, 67, 0.15);\n",
              "      fill: #174EA6;\n",
              "    }\n",
              "\n",
              "    .colab-df-buttons div {\n",
              "      margin-bottom: 4px;\n",
              "    }\n",
              "\n",
              "    [theme=dark] .colab-df-convert {\n",
              "      background-color: #3B4455;\n",
              "      fill: #D2E3FC;\n",
              "    }\n",
              "\n",
              "    [theme=dark] .colab-df-convert:hover {\n",
              "      background-color: #434B5C;\n",
              "      box-shadow: 0px 1px 3px 1px rgba(0, 0, 0, 0.15);\n",
              "      filter: drop-shadow(0px 1px 2px rgba(0, 0, 0, 0.3));\n",
              "      fill: #FFFFFF;\n",
              "    }\n",
              "  </style>\n",
              "\n",
              "    <script>\n",
              "      const buttonEl =\n",
              "        document.querySelector('#df-4b8bf4eb-025d-48f4-8a96-d190be441ad7 button.colab-df-convert');\n",
              "      buttonEl.style.display =\n",
              "        google.colab.kernel.accessAllowed ? 'block' : 'none';\n",
              "\n",
              "      async function convertToInteractive(key) {\n",
              "        const element = document.querySelector('#df-4b8bf4eb-025d-48f4-8a96-d190be441ad7');\n",
              "        const dataTable =\n",
              "          await google.colab.kernel.invokeFunction('convertToInteractive',\n",
              "                                                    [key], {});\n",
              "        if (!dataTable) return;\n",
              "\n",
              "        const docLinkHtml = 'Like what you see? Visit the ' +\n",
              "          '<a target=\"_blank\" href=https://colab.research.google.com/notebooks/data_table.ipynb>data table notebook</a>'\n",
              "          + ' to learn more about interactive tables.';\n",
              "        element.innerHTML = '';\n",
              "        dataTable['output_type'] = 'display_data';\n",
              "        await google.colab.output.renderOutput(dataTable, element);\n",
              "        const docLink = document.createElement('div');\n",
              "        docLink.innerHTML = docLinkHtml;\n",
              "        element.appendChild(docLink);\n",
              "      }\n",
              "    </script>\n",
              "  </div>\n",
              "\n",
              "\n",
              "<div id=\"df-4fbb2418-e154-4ba6-aaae-9e8c5b1eaa7b\">\n",
              "  <button class=\"colab-df-quickchart\" onclick=\"quickchart('df-4fbb2418-e154-4ba6-aaae-9e8c5b1eaa7b')\"\n",
              "            title=\"Suggest charts.\"\n",
              "            style=\"display:none;\">\n",
              "\n",
              "<svg xmlns=\"http://www.w3.org/2000/svg\" height=\"24px\"viewBox=\"0 0 24 24\"\n",
              "     width=\"24px\">\n",
              "    <g>\n",
              "        <path d=\"M19 3H5c-1.1 0-2 .9-2 2v14c0 1.1.9 2 2 2h14c1.1 0 2-.9 2-2V5c0-1.1-.9-2-2-2zM9 17H7v-7h2v7zm4 0h-2V7h2v10zm4 0h-2v-4h2v4z\"/>\n",
              "    </g>\n",
              "</svg>\n",
              "  </button>\n",
              "\n",
              "<style>\n",
              "  .colab-df-quickchart {\n",
              "      --bg-color: #E8F0FE;\n",
              "      --fill-color: #1967D2;\n",
              "      --hover-bg-color: #E2EBFA;\n",
              "      --hover-fill-color: #174EA6;\n",
              "      --disabled-fill-color: #AAA;\n",
              "      --disabled-bg-color: #DDD;\n",
              "  }\n",
              "\n",
              "  [theme=dark] .colab-df-quickchart {\n",
              "      --bg-color: #3B4455;\n",
              "      --fill-color: #D2E3FC;\n",
              "      --hover-bg-color: #434B5C;\n",
              "      --hover-fill-color: #FFFFFF;\n",
              "      --disabled-bg-color: #3B4455;\n",
              "      --disabled-fill-color: #666;\n",
              "  }\n",
              "\n",
              "  .colab-df-quickchart {\n",
              "    background-color: var(--bg-color);\n",
              "    border: none;\n",
              "    border-radius: 50%;\n",
              "    cursor: pointer;\n",
              "    display: none;\n",
              "    fill: var(--fill-color);\n",
              "    height: 32px;\n",
              "    padding: 0;\n",
              "    width: 32px;\n",
              "  }\n",
              "\n",
              "  .colab-df-quickchart:hover {\n",
              "    background-color: var(--hover-bg-color);\n",
              "    box-shadow: 0 1px 2px rgba(60, 64, 67, 0.3), 0 1px 3px 1px rgba(60, 64, 67, 0.15);\n",
              "    fill: var(--button-hover-fill-color);\n",
              "  }\n",
              "\n",
              "  .colab-df-quickchart-complete:disabled,\n",
              "  .colab-df-quickchart-complete:disabled:hover {\n",
              "    background-color: var(--disabled-bg-color);\n",
              "    fill: var(--disabled-fill-color);\n",
              "    box-shadow: none;\n",
              "  }\n",
              "\n",
              "  .colab-df-spinner {\n",
              "    border: 2px solid var(--fill-color);\n",
              "    border-color: transparent;\n",
              "    border-bottom-color: var(--fill-color);\n",
              "    animation:\n",
              "      spin 1s steps(1) infinite;\n",
              "  }\n",
              "\n",
              "  @keyframes spin {\n",
              "    0% {\n",
              "      border-color: transparent;\n",
              "      border-bottom-color: var(--fill-color);\n",
              "      border-left-color: var(--fill-color);\n",
              "    }\n",
              "    20% {\n",
              "      border-color: transparent;\n",
              "      border-left-color: var(--fill-color);\n",
              "      border-top-color: var(--fill-color);\n",
              "    }\n",
              "    30% {\n",
              "      border-color: transparent;\n",
              "      border-left-color: var(--fill-color);\n",
              "      border-top-color: var(--fill-color);\n",
              "      border-right-color: var(--fill-color);\n",
              "    }\n",
              "    40% {\n",
              "      border-color: transparent;\n",
              "      border-right-color: var(--fill-color);\n",
              "      border-top-color: var(--fill-color);\n",
              "    }\n",
              "    60% {\n",
              "      border-color: transparent;\n",
              "      border-right-color: var(--fill-color);\n",
              "    }\n",
              "    80% {\n",
              "      border-color: transparent;\n",
              "      border-right-color: var(--fill-color);\n",
              "      border-bottom-color: var(--fill-color);\n",
              "    }\n",
              "    90% {\n",
              "      border-color: transparent;\n",
              "      border-bottom-color: var(--fill-color);\n",
              "    }\n",
              "  }\n",
              "</style>\n",
              "\n",
              "  <script>\n",
              "    async function quickchart(key) {\n",
              "      const quickchartButtonEl =\n",
              "        document.querySelector('#' + key + ' button');\n",
              "      quickchartButtonEl.disabled = true;  // To prevent multiple clicks.\n",
              "      quickchartButtonEl.classList.add('colab-df-spinner');\n",
              "      try {\n",
              "        const charts = await google.colab.kernel.invokeFunction(\n",
              "            'suggestCharts', [key], {});\n",
              "      } catch (error) {\n",
              "        console.error('Error during call to suggestCharts:', error);\n",
              "      }\n",
              "      quickchartButtonEl.classList.remove('colab-df-spinner');\n",
              "      quickchartButtonEl.classList.add('colab-df-quickchart-complete');\n",
              "    }\n",
              "    (() => {\n",
              "      let quickchartButtonEl =\n",
              "        document.querySelector('#df-4fbb2418-e154-4ba6-aaae-9e8c5b1eaa7b button');\n",
              "      quickchartButtonEl.style.display =\n",
              "        google.colab.kernel.accessAllowed ? 'block' : 'none';\n",
              "    })();\n",
              "  </script>\n",
              "</div>\n",
              "    </div>\n",
              "  </div>\n"
            ]
          },
          "metadata": {},
          "execution_count": 3141
        }
      ]
    },
    {
      "cell_type": "code",
      "source": [
        "#Split the dataset\n",
        "X_train, X_test, Y_train, Y_test = train_test_split(X, Y, test_size = .2, random_state = 0)\n",
        "\n",
        "X_train.shape\n"
      ],
      "metadata": {
        "colab": {
          "base_uri": "https://localhost:8080/"
        },
        "id": "AgtdM72e-DNe",
        "outputId": "266306c2-7032-4e21-90fe-7582003fbc00"
      },
      "execution_count": 3142,
      "outputs": [
        {
          "output_type": "execute_result",
          "data": {
            "text/plain": [
              "(455, 30)"
            ]
          },
          "metadata": {},
          "execution_count": 3142
        }
      ]
    },
    {
      "cell_type": "code",
      "source": [
        "#Feature Scaling for better accuracy\n",
        "scalar_X = StandardScaler()\n",
        "X = scalar_X.fit_transform(X)"
      ],
      "metadata": {
        "id": "rS-zJfXA-3Gm"
      },
      "execution_count": 3143,
      "outputs": []
    },
    {
      "cell_type": "code",
      "source": [
        "classifier = LogisticRegression(random_state=0, solver = 'saga')\n",
        "classifier.fit(X_train, Y_train)"
      ],
      "metadata": {
        "colab": {
          "base_uri": "https://localhost:8080/",
          "height": 109
        },
        "id": "fexUcujn-rMk",
        "outputId": "19b1e8bd-15b2-4eb9-8410-7d6d5610b99b"
      },
      "execution_count": 3144,
      "outputs": [
        {
          "output_type": "stream",
          "name": "stderr",
          "text": [
            "/usr/local/lib/python3.10/dist-packages/sklearn/linear_model/_sag.py:350: ConvergenceWarning: The max_iter was reached which means the coef_ did not converge\n",
            "  warnings.warn(\n"
          ]
        },
        {
          "output_type": "execute_result",
          "data": {
            "text/plain": [
              "LogisticRegression(random_state=0, solver='saga')"
            ],
            "text/html": [
              "<style>#sk-container-id-129 {color: black;background-color: white;}#sk-container-id-129 pre{padding: 0;}#sk-container-id-129 div.sk-toggleable {background-color: white;}#sk-container-id-129 label.sk-toggleable__label {cursor: pointer;display: block;width: 100%;margin-bottom: 0;padding: 0.3em;box-sizing: border-box;text-align: center;}#sk-container-id-129 label.sk-toggleable__label-arrow:before {content: \"▸\";float: left;margin-right: 0.25em;color: #696969;}#sk-container-id-129 label.sk-toggleable__label-arrow:hover:before {color: black;}#sk-container-id-129 div.sk-estimator:hover label.sk-toggleable__label-arrow:before {color: black;}#sk-container-id-129 div.sk-toggleable__content {max-height: 0;max-width: 0;overflow: hidden;text-align: left;background-color: #f0f8ff;}#sk-container-id-129 div.sk-toggleable__content pre {margin: 0.2em;color: black;border-radius: 0.25em;background-color: #f0f8ff;}#sk-container-id-129 input.sk-toggleable__control:checked~div.sk-toggleable__content {max-height: 200px;max-width: 100%;overflow: auto;}#sk-container-id-129 input.sk-toggleable__control:checked~label.sk-toggleable__label-arrow:before {content: \"▾\";}#sk-container-id-129 div.sk-estimator input.sk-toggleable__control:checked~label.sk-toggleable__label {background-color: #d4ebff;}#sk-container-id-129 div.sk-label input.sk-toggleable__control:checked~label.sk-toggleable__label {background-color: #d4ebff;}#sk-container-id-129 input.sk-hidden--visually {border: 0;clip: rect(1px 1px 1px 1px);clip: rect(1px, 1px, 1px, 1px);height: 1px;margin: -1px;overflow: hidden;padding: 0;position: absolute;width: 1px;}#sk-container-id-129 div.sk-estimator {font-family: monospace;background-color: #f0f8ff;border: 1px dotted black;border-radius: 0.25em;box-sizing: border-box;margin-bottom: 0.5em;}#sk-container-id-129 div.sk-estimator:hover {background-color: #d4ebff;}#sk-container-id-129 div.sk-parallel-item::after {content: \"\";width: 100%;border-bottom: 1px solid gray;flex-grow: 1;}#sk-container-id-129 div.sk-label:hover label.sk-toggleable__label {background-color: #d4ebff;}#sk-container-id-129 div.sk-serial::before {content: \"\";position: absolute;border-left: 1px solid gray;box-sizing: border-box;top: 0;bottom: 0;left: 50%;z-index: 0;}#sk-container-id-129 div.sk-serial {display: flex;flex-direction: column;align-items: center;background-color: white;padding-right: 0.2em;padding-left: 0.2em;position: relative;}#sk-container-id-129 div.sk-item {position: relative;z-index: 1;}#sk-container-id-129 div.sk-parallel {display: flex;align-items: stretch;justify-content: center;background-color: white;position: relative;}#sk-container-id-129 div.sk-item::before, #sk-container-id-129 div.sk-parallel-item::before {content: \"\";position: absolute;border-left: 1px solid gray;box-sizing: border-box;top: 0;bottom: 0;left: 50%;z-index: -1;}#sk-container-id-129 div.sk-parallel-item {display: flex;flex-direction: column;z-index: 1;position: relative;background-color: white;}#sk-container-id-129 div.sk-parallel-item:first-child::after {align-self: flex-end;width: 50%;}#sk-container-id-129 div.sk-parallel-item:last-child::after {align-self: flex-start;width: 50%;}#sk-container-id-129 div.sk-parallel-item:only-child::after {width: 0;}#sk-container-id-129 div.sk-dashed-wrapped {border: 1px dashed gray;margin: 0 0.4em 0.5em 0.4em;box-sizing: border-box;padding-bottom: 0.4em;background-color: white;}#sk-container-id-129 div.sk-label label {font-family: monospace;font-weight: bold;display: inline-block;line-height: 1.2em;}#sk-container-id-129 div.sk-label-container {text-align: center;}#sk-container-id-129 div.sk-container {/* jupyter's `normalize.less` sets `[hidden] { display: none; }` but bootstrap.min.css set `[hidden] { display: none !important; }` so we also need the `!important` here to be able to override the default hidden behavior on the sphinx rendered scikit-learn.org. See: https://github.com/scikit-learn/scikit-learn/issues/21755 */display: inline-block !important;position: relative;}#sk-container-id-129 div.sk-text-repr-fallback {display: none;}</style><div id=\"sk-container-id-129\" class=\"sk-top-container\"><div class=\"sk-text-repr-fallback\"><pre>LogisticRegression(random_state=0, solver=&#x27;saga&#x27;)</pre><b>In a Jupyter environment, please rerun this cell to show the HTML representation or trust the notebook. <br />On GitHub, the HTML representation is unable to render, please try loading this page with nbviewer.org.</b></div><div class=\"sk-container\" hidden><div class=\"sk-item\"><div class=\"sk-estimator sk-toggleable\"><input class=\"sk-toggleable__control sk-hidden--visually\" id=\"sk-estimator-id-129\" type=\"checkbox\" checked><label for=\"sk-estimator-id-129\" class=\"sk-toggleable__label sk-toggleable__label-arrow\">LogisticRegression</label><div class=\"sk-toggleable__content\"><pre>LogisticRegression(random_state=0, solver=&#x27;saga&#x27;)</pre></div></div></div></div></div>"
            ]
          },
          "metadata": {},
          "execution_count": 3144
        }
      ]
    },
    {
      "cell_type": "code",
      "source": [
        "Y_pred = classifier.predict(X_test)\n",
        "cf_matrix = confusion_matrix(Y_test, Y_pred)"
      ],
      "metadata": {
        "id": "zPxwqTG1-tMF"
      },
      "execution_count": 3145,
      "outputs": []
    },
    {
      "cell_type": "code",
      "source": [
        "print(\"Accuracy:\",metrics.accuracy_score(Y_test, Y_pred))\n",
        "print(\"Precision:\",metrics.precision_score(Y_test, Y_pred))\n",
        "print(\"Recall:\",metrics.recall_score(Y_test, Y_pred))\n",
        "print(\"F1 Score:\", metrics.f1_score(Y_test,Y_pred))"
      ],
      "metadata": {
        "colab": {
          "base_uri": "https://localhost:8080/"
        },
        "id": "b2un9Jyi--Ne",
        "outputId": "0a354eda-8d84-4659-f0b1-1bc3f5fd16dc"
      },
      "execution_count": 3146,
      "outputs": [
        {
          "output_type": "stream",
          "name": "stdout",
          "text": [
            "Accuracy: 0.8859649122807017\n",
            "Precision: 0.8461538461538461\n",
            "Recall: 0.9850746268656716\n",
            "F1 Score: 0.9103448275862068\n"
          ]
        }
      ]
    },
    {
      "cell_type": "code",
      "source": [
        "class_names=[0,1] # name  of classes\n",
        "fig, ax = plt.subplots()\n",
        "tick_marks = np.arange(len(class_names))\n",
        "plt.xticks(tick_marks, class_names)\n",
        "plt.yticks(tick_marks, class_names)\n",
        "# create heatmap\n",
        "sns.heatmap(pd.DataFrame(cf_matrix), annot=True, cmap=\"YlGnBu\" ,fmt='g')\n",
        "ax.xaxis.set_label_position(\"top\")\n",
        "plt.tight_layout()\n",
        "plt.title('Confusion matrix for 2a', y=1.1)\n",
        "plt.ylabel('Actual label')\n",
        "plt.xlabel('Predicted label')"
      ],
      "metadata": {
        "colab": {
          "base_uri": "https://localhost:8080/",
          "height": 568
        },
        "id": "YCKQZcvs_AI2",
        "outputId": "c03bee64-60fa-4736-999e-ef0116cdcca3"
      },
      "execution_count": 3147,
      "outputs": [
        {
          "output_type": "execute_result",
          "data": {
            "text/plain": [
              "Text(0.5, 427.9555555555555, 'Predicted label')"
            ]
          },
          "metadata": {},
          "execution_count": 3147
        },
        {
          "output_type": "display_data",
          "data": {
            "text/plain": [
              "<Figure size 640x480 with 2 Axes>"
            ],
            "image/png": "[encoded data removed]"
          },
          "metadata": {}
        }
      ]
    },
    {
      "cell_type": "code",
      "source": [
        "#Pentaly Value\n",
        "c = 1.0\n",
        "lr = LogisticRegression(penalty ='l1', C=c, solver='saga')\n",
        "lr.fit(X_train, Y_train)\n",
        "\n",
        "\n",
        "# Predicting on the test data\n",
        "Y_pred_2 = classifier.predict(X_test)\n",
        "cf_matrix_2 = confusion_matrix(Y_test, Y_pred_2)\n",
        "\n",
        "# performance\n",
        "print(\"Accuracy:\",metrics.accuracy_score(Y_test, Y_pred_2))\n",
        "print(\"Precision:\",metrics.precision_score(Y_test, Y_pred_2))\n",
        "print(\"Recall:\",metrics.recall_score(Y_test, Y_pred_2))\n",
        "print(\"F1 Score:\", metrics.f1_score(Y_test,Y_pred_2))"
      ],
      "metadata": {
        "colab": {
          "base_uri": "https://localhost:8080/"
        },
        "id": "U2Y1KzkfBakY",
        "outputId": "c9b090eb-a02a-4ca5-c0ab-42e0dd157ca8"
      },
      "execution_count": 3148,
      "outputs": [
        {
          "output_type": "stream",
          "name": "stdout",
          "text": [
            "Accuracy: 0.8859649122807017\n",
            "Precision: 0.8461538461538461\n",
            "Recall: 0.9850746268656716\n",
            "F1 Score: 0.9103448275862068\n"
          ]
        },
        {
          "output_type": "stream",
          "name": "stderr",
          "text": [
            "/usr/local/lib/python3.10/dist-packages/sklearn/linear_model/_sag.py:350: ConvergenceWarning: The max_iter was reached which means the coef_ did not converge\n",
            "  warnings.warn(\n"
          ]
        }
      ]
    },
    {
      "cell_type": "code",
      "source": [
        "class_names=[0,1] # name  of classes\n",
        "fig, ax = plt.subplots()\n",
        "tick_marks = np.arange(len(class_names))\n",
        "plt.xticks(tick_marks, class_names)\n",
        "plt.yticks(tick_marks, class_names)\n",
        "# create heatmap\n",
        "sns.heatmap(pd.DataFrame(cf_matrix_2), annot=True, cmap=\"YlGnBu\" ,fmt='g')\n",
        "ax.xaxis.set_label_position(\"top\")\n",
        "plt.tight_layout()\n",
        "plt.title('Confusion matrix for 2b', y=1.1)\n",
        "plt.ylabel('Actual label')\n",
        "plt.xlabel('Predicted label')"
      ],
      "metadata": {
        "colab": {
          "base_uri": "https://localhost:8080/",
          "height": 568
        },
        "id": "cdvIKJVUBeqY",
        "outputId": "6e15b11b-1802-4928-dad1-7e87c9231091"
      },
      "execution_count": 3149,
      "outputs": [
        {
          "output_type": "execute_result",
          "data": {
            "text/plain": [
              "Text(0.5, 427.9555555555555, 'Predicted label')"
            ]
          },
          "metadata": {},
          "execution_count": 3149
        },
        {
          "output_type": "display_data",
          "data": {
            "text/plain": [
              "<Figure size 640x480 with 2 Axes>"
            ],
            "image/png": "[encoded data removed]"
          },
          "metadata": {}
        }
      ]
    },
    {
      "cell_type": "code",
      "source": [
        "#Problem 3\n",
        "#Use the cancer dataset to build a naive Bayesian model to classify the type of cancer (Malignant vs. benign).\n",
        "#Use 80% and 20% split between training# and evaluation (test). Report your classification accuracy, precision, recall, and F1 score.\n",
        "#Explain and elaborate on your results. Can you compare your results against the logistic regression classifier you did in Problem 2."
      ],
      "metadata": {
        "id": "_4WB3FRmB1fY"
      },
      "execution_count": 3150,
      "outputs": []
    },
    {
      "cell_type": "code",
      "source": [
        "naive = GaussianNB()\n",
        "naive.fit(X_test, Y_test)\n",
        "Y_pred_3 = naive.predict(X_test)\n",
        "cf_matrix_3 = confusion_matrix(Y_test, Y_pred_3)"
      ],
      "metadata": {
        "id": "Jn14kfKeDias"
      },
      "execution_count": 3151,
      "outputs": []
    },
    {
      "cell_type": "code",
      "source": [
        "print(\"Accuracy:\",metrics.accuracy_score(Y_test, Y_pred_3))\n",
        "print(\"Precision:\",metrics.precision_score(Y_test, Y_pred_3))\n",
        "print(\"Recall:\",metrics.recall_score(Y_test, Y_pred_3))\n",
        "print(\"F1 Score:\", metrics.f1_score(Y_test,Y_pred_3))"
      ],
      "metadata": {
        "colab": {
          "base_uri": "https://localhost:8080/"
        },
        "id": "iDZmWPPFEnEk",
        "outputId": "b66dc689-8506-4cd9-bc8f-4398d56dcec0"
      },
      "execution_count": 3152,
      "outputs": [
        {
          "output_type": "stream",
          "name": "stdout",
          "text": [
            "Accuracy: 0.9298245614035088\n",
            "Precision: 0.9402985074626866\n",
            "Recall: 0.9402985074626866\n",
            "F1 Score: 0.9402985074626865\n"
          ]
        }
      ]
    },
    {
      "cell_type": "code",
      "source": [
        "class_names=[0,1] # name  of classes\n",
        "fig, ax = plt.subplots()\n",
        "tick_marks = np.arange(len(class_names))\n",
        "plt.xticks(tick_marks, class_names)\n",
        "plt.yticks(tick_marks, class_names)\n",
        "# create heatmap\n",
        "sns.heatmap(pd.DataFrame(cf_matrix_3), annot=True, cmap=\"YlGnBu\" ,fmt='g')\n",
        "ax.xaxis.set_label_position(\"top\")\n",
        "plt.tight_layout()\n",
        "plt.title('Confusion matrix', y=1.1)\n",
        "plt.ylabel('Actual label')\n",
        "plt.xlabel('Predicted label')"
      ],
      "metadata": {
        "colab": {
          "base_uri": "https://localhost:8080/",
          "height": 568
        },
        "id": "knwm1kH_E_gq",
        "outputId": "aa9daf3d-2792-47d8-c952-2ba67fff01cc"
      },
      "execution_count": 3153,
      "outputs": [
        {
          "output_type": "execute_result",
          "data": {
            "text/plain": [
              "Text(0.5, 427.9555555555555, 'Predicted label')"
            ]
          },
          "metadata": {},
          "execution_count": 3153
        },
        {
          "output_type": "display_data",
          "data": {
            "text/plain": [
              "<Figure size 640x480 with 2 Axes>"
            ],
            "image/png": "[encoded data removed]"
          },
          "metadata": {}
        }
      ]
    },
    {
      "cell_type": "code",
      "source": [
        "#Problem 4\n",
        "#Use the cancer dataset to build a logistic regression model to classify the type of cancer (Malignant vs. benign).\n",
        "#Use the PCA feature extraction for your training. Perform N number of independent training (N=1, …, K).\n",
        "#Identify the optimum number of K, principal components that achieve the highest classification accuracy.\n",
        "#Report your classification accuracy, precision, recall, and F1 score over a different number of Ks.\n",
        "#Explain and elaborate on your results and compare them against problems 2 and 3."
      ],
      "metadata": {
        "id": "UZ_dD6itHO0k"
      },
      "execution_count": 3154,
      "outputs": []
    },
    {
      "cell_type": "code",
      "source": [
        "dataset = load_breast_cancer()\n",
        "input = pd.DataFrame(dataset.data)\n",
        "\n"
      ],
      "metadata": {
        "id": "hIWnmV1EW2rP"
      },
      "execution_count": 3155,
      "outputs": []
    },
    {
      "cell_type": "code",
      "source": [
        "\n",
        "labels = dataset.target\n",
        "labels = np.reshape(labels,(569,1))\n",
        "cancer = np.concatenate([input,labels],axis=1)"
      ],
      "metadata": {
        "id": "ZVxvJK2HiBZi"
      },
      "execution_count": 3156,
      "outputs": []
    },
    {
      "cell_type": "code",
      "source": [
        "\n",
        "cancer = pd.DataFrame(cancer)\n",
        "features = dataset.feature_names\n"
      ],
      "metadata": {
        "id": "UR_JsEltkKQ2"
      },
      "execution_count": 3157,
      "outputs": []
    },
    {
      "cell_type": "code",
      "source": [
        "\n",
        "features_label = np.append(features,'test')\n",
        "cancer.columns = features_label\n"
      ],
      "metadata": {
        "id": "bSwygmHWkL-z"
      },
      "execution_count": 3158,
      "outputs": []
    },
    {
      "cell_type": "code",
      "source": [
        "#X = cancer.iloc[:, [0,1,2,3,4,5,6,7,8,9,10,11,12,13,14,15,16,17,18,19,20,21,22,23,24,25,26,27,28,29,30]]\n",
        "#Y = cancer.iloc[:,30].values"
      ],
      "metadata": {
        "id": "wNHu7dAhkOHS"
      },
      "execution_count": 3159,
      "outputs": []
    },
    {
      "cell_type": "code",
      "source": [
        "#Feature Scaling for better accuracy\n",
        "scalar_X = StandardScaler()\n",
        "X = scalar_X.fit_transform(X)\n",
        "\n",
        "#Split the dataset\n",
        "X_train, X_test, Y_train, Y_test = train_test_split(X, Y,test_size = 0.2, random_state = 0)\n",
        "\n",
        "classifier = LogisticRegression(random_state=0)\n",
        "classifier.fit(X_train, Y_train)\n",
        "\n",
        "Y_pred_4 = classifier.predict(X_test)\n",
        "cf_matrix_4 = confusion_matrix(Y_test, Y_pred_4)"
      ],
      "metadata": {
        "id": "Zt0mp_20kTaz"
      },
      "execution_count": 3160,
      "outputs": []
    },
    {
      "cell_type": "code",
      "source": [
        "\n",
        "#Metrics\n",
        "accuracy = metrics.accuracy_score(Y_test, Y_pred_4)\n",
        "precision = metrics.precision_score(Y_test, Y_pred_4)\n",
        "recall = metrics.recall_score(Y_test, Y_pred_4)\n",
        "f1_score = metrics.f1_score(Y_test,Y_pred_4)\n",
        "\n",
        "print(\"Accuracy:\",accuracy)\n",
        "print(\"Precision:\",precision)\n",
        "print(\"Recall:\",recall)\n",
        "print(\"F1_Score:\",f1_score)"
      ],
      "metadata": {
        "colab": {
          "base_uri": "https://localhost:8080/"
        },
        "id": "1xMpvG14kxFi",
        "outputId": "5a8e6cf8-b7da-4080-84fc-ea85426ebeaa"
      },
      "execution_count": 3161,
      "outputs": [
        {
          "output_type": "stream",
          "name": "stdout",
          "text": [
            "Accuracy: 0.9649122807017544\n",
            "Precision: 0.9701492537313433\n",
            "Recall: 0.9701492537313433\n",
            "F1_Score: 0.9701492537313433\n"
          ]
        }
      ]
    },
    {
      "cell_type": "code",
      "source": [
        "#PCA function\n",
        "X = cancer.loc[:,features].values\n",
        "Y = cancer.loc[:,['test']].values\n",
        "X = StandardScaler().fit_transform(x)"
      ],
      "metadata": {
        "id": "dFDenFEOlJhH"
      },
      "execution_count": 3162,
      "outputs": []
    },
    {
      "cell_type": "code",
      "source": [
        "\n",
        "highest_accuracy = 0.0\n",
        "overall_accuracies = []"
      ],
      "metadata": {
        "id": "L62Bw1v0lJ5M"
      },
      "execution_count": 3163,
      "outputs": []
    },
    {
      "cell_type": "code",
      "source": [
        "#K-loop\n",
        "for k in range(1,15,31):\n",
        "  pca = PCA(n_components=k)\n",
        "  principalComponents = pca.fit_transform(x)\n",
        "  principalDf = pd.DataFrame(data = principalComponents, columns = [*range(1,k+1)])\n",
        "  finaldf = pd.concat([principalDf, cancer[['test']]], axis=1)\n",
        "  outcome = finaldf.pop(\"test\")\n",
        "\n",
        "  Xfinal = finaldf.values\n",
        "  Yfinal = outcome.values\n",
        "  X_train, X_test, Y_train, Y_test = train_test_split(Xfinal, Yfinal, test_size = 0.2, random_state = 0)\n",
        "  classifier.fit(X_train, Y_train)\n",
        "\n",
        "  Y_pred_4 = classifier.predict(X_test)\n",
        "\n",
        "  cf_matrix_4 = confusion_matrix(Y_test, Y_pred_4)\n"
      ],
      "metadata": {
        "id": "lKgSUQ-klL3H"
      },
      "execution_count": 3164,
      "outputs": []
    },
    {
      "cell_type": "code",
      "source": [
        "\n",
        "#PCA\n",
        "pca = PCA(n_components=k)\n",
        "principalComponents = pca.fit_transform(x)\n",
        "principalDf = pd.DataFrame(data = principalComponents, columns = [*range(1,k+1)])\n",
        "final_df =pd.concat([principalDf, cancer[['test']]], axis=1)\n",
        "\n",
        "Xfinal = final_df.values\n",
        "Yfinal = outcome.values\n"
      ],
      "metadata": {
        "id": "JirPrvKoogAt"
      },
      "execution_count": 3165,
      "outputs": []
    },
    {
      "cell_type": "code",
      "source": [
        "Y_pred_4 = classifier.predict(X_test)\n",
        "cf_matrix_4 = confusion_matrix(Y_test, Y_pred_4)\n",
        "\n",
        "#Metrics\n",
        "print(\"Accuracy:\",metrics.accuracy_score(Y_test,Y_pred_4))\n",
        "print(\"Precision:\",metrics.precision_score(Y_test,Y_pred_4))\n",
        "print(\"Recall:\",metrics.recall_score(Y_test,Y_pred_4))\n",
        "print(\"F1 Score:\", metrics.f1_score(Y_test,Y_pred_4))\n",
        "print(\"Final k: \", k)"
      ],
      "metadata": {
        "colab": {
          "base_uri": "https://localhost:8080/"
        },
        "id": "GAvJdwXDpCDJ",
        "outputId": "9cdce755-c9b5-453f-c7f6-72470fd1adba"
      },
      "execution_count": 3166,
      "outputs": [
        {
          "output_type": "stream",
          "name": "stdout",
          "text": [
            "Accuracy: 0.9035087719298246\n",
            "Precision: 0.9242424242424242\n",
            "Recall: 0.9104477611940298\n",
            "F1 Score: 0.9172932330827067\n",
            "Final k:  1\n"
          ]
        }
      ]
    },
    {
      "cell_type": "code",
      "source": [
        "class_names=[0,1] # name  of classes\n",
        "fig, ax = plt.subplots()\n",
        "tick_marks = np.arange(len(class_names))\n",
        "plt.xticks(tick_marks, class_names)\n",
        "plt.yticks(tick_marks, class_names)\n",
        "# create heatmap\n",
        "sns.heatmap(pd.DataFrame(cf_matrix_4), annot=True, cmap=\"YlGnBu\" ,fmt='g')\n",
        "ax.xaxis.set_label_position(\"top\")\n",
        "plt.tight_layout()\n",
        "plt.title('Confusion matrix', y=1.1)\n",
        "plt.ylabel('Actual label')\n",
        "plt.xlabel('Predicted label')\n"
      ],
      "metadata": {
        "colab": {
          "base_uri": "https://localhost:8080/",
          "height": 568
        },
        "id": "XqHaGSoAruXi",
        "outputId": "16193628-9a72-44b3-f6db-7c6621ad1936"
      },
      "execution_count": 3167,
      "outputs": [
        {
          "output_type": "execute_result",
          "data": {
            "text/plain": [
              "Text(0.5, 427.9555555555555, 'Predicted label')"
            ]
          },
          "metadata": {},
          "execution_count": 3167
        },
        {
          "output_type": "display_data",
          "data": {
            "text/plain": [
              "<Figure size 640x480 with 2 Axes>"
            ],
            "image/png": "[encoded data removed]"
          },
          "metadata": {}
        }
      ]
    },
    {
      "cell_type": "code",
      "source": [
        "#Probelm 5\n",
        "#Can you repeat problem 4?\n",
        "#This time, replace the logistic regression classifier with the Bayes classifier.\n",
        "#Report your results (classification accuracy, precision, recall and F1 score). Compare your results against problems 2, 3 and 4."
      ],
      "metadata": {
        "id": "Kfjc5MySvU0l"
      },
      "execution_count": 3168,
      "outputs": []
    },
    {
      "cell_type": "code",
      "source": [
        "X = cancer.iloc[:, [0,1,2,3,4,5,6,7,8,9,10,11,12,13,14,15,16,17,18,19,20,21,22,23,24,25,26,27,28,29,30]]\n",
        "Y = cancer.iloc[:,30].values"
      ],
      "metadata": {
        "id": "rVWICYUGvXY3"
      },
      "execution_count": 3169,
      "outputs": []
    },
    {
      "cell_type": "code",
      "source": [
        "#Feature Scaling for better accuracy\n",
        "sc_X = StandardScaler()\n",
        "X = sc_X.fit_transform(X)\n",
        "\n",
        "#Split the dataset\n",
        "X_train, X_test, Y_train, Y_test = train_test_split(X, Y, test_size = 0.2, random_state = 0)\n",
        "\n",
        "classifier = GaussianNB()\n",
        "classifier.fit(X_train, Y_train)"
      ],
      "metadata": {
        "colab": {
          "base_uri": "https://localhost:8080/",
          "height": 75
        },
        "id": "ynK_MT334b6D",
        "outputId": "1f6f3c36-f6ab-4d5f-d219-c453a0aedbe0"
      },
      "execution_count": 3170,
      "outputs": [
        {
          "output_type": "execute_result",
          "data": {
            "text/plain": [
              "GaussianNB()"
            ],
            "text/html": [
              "<style>#sk-container-id-130 {color: black;background-color: white;}#sk-container-id-130 pre{padding: 0;}#sk-container-id-130 div.sk-toggleable {background-color: white;}#sk-container-id-130 label.sk-toggleable__label {cursor: pointer;display: block;width: 100%;margin-bottom: 0;padding: 0.3em;box-sizing: border-box;text-align: center;}#sk-container-id-130 label.sk-toggleable__label-arrow:before {content: \"▸\";float: left;margin-right: 0.25em;color: #696969;}#sk-container-id-130 label.sk-toggleable__label-arrow:hover:before {color: black;}#sk-container-id-130 div.sk-estimator:hover label.sk-toggleable__label-arrow:before {color: black;}#sk-container-id-130 div.sk-toggleable__content {max-height: 0;max-width: 0;overflow: hidden;text-align: left;background-color: #f0f8ff;}#sk-container-id-130 div.sk-toggleable__content pre {margin: 0.2em;color: black;border-radius: 0.25em;background-color: #f0f8ff;}#sk-container-id-130 input.sk-toggleable__control:checked~div.sk-toggleable__content {max-height: 200px;max-width: 100%;overflow: auto;}#sk-container-id-130 input.sk-toggleable__control:checked~label.sk-toggleable__label-arrow:before {content: \"▾\";}#sk-container-id-130 div.sk-estimator input.sk-toggleable__control:checked~label.sk-toggleable__label {background-color: #d4ebff;}#sk-container-id-130 div.sk-label input.sk-toggleable__control:checked~label.sk-toggleable__label {background-color: #d4ebff;}#sk-container-id-130 input.sk-hidden--visually {border: 0;clip: rect(1px 1px 1px 1px);clip: rect(1px, 1px, 1px, 1px);height: 1px;margin: -1px;overflow: hidden;padding: 0;position: absolute;width: 1px;}#sk-container-id-130 div.sk-estimator {font-family: monospace;background-color: #f0f8ff;border: 1px dotted black;border-radius: 0.25em;box-sizing: border-box;margin-bottom: 0.5em;}#sk-container-id-130 div.sk-estimator:hover {background-color: #d4ebff;}#sk-container-id-130 div.sk-parallel-item::after {content: \"\";width: 100%;border-bottom: 1px solid gray;flex-grow: 1;}#sk-container-id-130 div.sk-label:hover label.sk-toggleable__label {background-color: #d4ebff;}#sk-container-id-130 div.sk-serial::before {content: \"\";position: absolute;border-left: 1px solid gray;box-sizing: border-box;top: 0;bottom: 0;left: 50%;z-index: 0;}#sk-container-id-130 div.sk-serial {display: flex;flex-direction: column;align-items: center;background-color: white;padding-right: 0.2em;padding-left: 0.2em;position: relative;}#sk-container-id-130 div.sk-item {position: relative;z-index: 1;}#sk-container-id-130 div.sk-parallel {display: flex;align-items: stretch;justify-content: center;background-color: white;position: relative;}#sk-container-id-130 div.sk-item::before, #sk-container-id-130 div.sk-parallel-item::before {content: \"\";position: absolute;border-left: 1px solid gray;box-sizing: border-box;top: 0;bottom: 0;left: 50%;z-index: -1;}#sk-container-id-130 div.sk-parallel-item {display: flex;flex-direction: column;z-index: 1;position: relative;background-color: white;}#sk-container-id-130 div.sk-parallel-item:first-child::after {align-self: flex-end;width: 50%;}#sk-container-id-130 div.sk-parallel-item:last-child::after {align-self: flex-start;width: 50%;}#sk-container-id-130 div.sk-parallel-item:only-child::after {width: 0;}#sk-container-id-130 div.sk-dashed-wrapped {border: 1px dashed gray;margin: 0 0.4em 0.5em 0.4em;box-sizing: border-box;padding-bottom: 0.4em;background-color: white;}#sk-container-id-130 div.sk-label label {font-family: monospace;font-weight: bold;display: inline-block;line-height: 1.2em;}#sk-container-id-130 div.sk-label-container {text-align: center;}#sk-container-id-130 div.sk-container {/* jupyter's `normalize.less` sets `[hidden] { display: none; }` but bootstrap.min.css set `[hidden] { display: none !important; }` so we also need the `!important` here to be able to override the default hidden behavior on the sphinx rendered scikit-learn.org. See: https://github.com/scikit-learn/scikit-learn/issues/21755 */display: inline-block !important;position: relative;}#sk-container-id-130 div.sk-text-repr-fallback {display: none;}</style><div id=\"sk-container-id-130\" class=\"sk-top-container\"><div class=\"sk-text-repr-fallback\"><pre>GaussianNB()</pre><b>In a Jupyter environment, please rerun this cell to show the HTML representation or trust the notebook. <br />On GitHub, the HTML representation is unable to render, please try loading this page with nbviewer.org.</b></div><div class=\"sk-container\" hidden><div class=\"sk-item\"><div class=\"sk-estimator sk-toggleable\"><input class=\"sk-toggleable__control sk-hidden--visually\" id=\"sk-estimator-id-130\" type=\"checkbox\" checked><label for=\"sk-estimator-id-130\" class=\"sk-toggleable__label sk-toggleable__label-arrow\">GaussianNB</label><div class=\"sk-toggleable__content\"><pre>GaussianNB()</pre></div></div></div></div></div>"
            ]
          },
          "metadata": {},
          "execution_count": 3170
        }
      ]
    },
    {
      "cell_type": "code",
      "source": [
        "Y_pred_5 = classifier.predict(X_test)\n",
        "cf_matrix_5 = confusion_matrix(Y_test, Y_pred_5)"
      ],
      "metadata": {
        "id": "kr1Bxtxz5Qi0"
      },
      "execution_count": 3171,
      "outputs": []
    },
    {
      "cell_type": "code",
      "source": [
        "#Metrics\n",
        "accuracy = metrics.accuracy_score(Y_test, Y_pred_4)\n",
        "precision = metrics.precision_score(Y_test, Y_pred_4)\n",
        "recall = metrics.recall_score(Y_test, Y_pred_4)\n",
        "f1_score = metrics.f1_score(Y_test,Y_pred_4)\n",
        "\n",
        "print(\"Accuracy:\",accuracy)\n",
        "print(\"Precision:\",precision)\n",
        "print(\"Recall:\",recall)\n",
        "print(\"F1_Score:\",f1_score)"
      ],
      "metadata": {
        "colab": {
          "base_uri": "https://localhost:8080/"
        },
        "id": "ZgI06rV05hhl",
        "outputId": "20a3b1c4-a469-4e1f-e1ba-e3114976b74e"
      },
      "execution_count": 3172,
      "outputs": [
        {
          "output_type": "stream",
          "name": "stdout",
          "text": [
            "Accuracy: 0.9035087719298246\n",
            "Precision: 0.9242424242424242\n",
            "Recall: 0.9104477611940298\n",
            "F1_Score: 0.9172932330827067\n"
          ]
        }
      ]
    },
    {
      "cell_type": "code",
      "source": [
        "#PCA function\n",
        "X = cancer.loc[:,features].values\n",
        "Y = cancer.loc[:,['test']].values\n",
        "X = StandardScaler().fit_transform(x)"
      ],
      "metadata": {
        "id": "bmEswNdW5qBE"
      },
      "execution_count": 3173,
      "outputs": []
    },
    {
      "cell_type": "code",
      "source": [
        "highest_accuracy_2 = 0.0\n",
        "overall_accuracies_2 = []"
      ],
      "metadata": {
        "id": "esqUDvOL5GXv"
      },
      "execution_count": 3174,
      "outputs": []
    },
    {
      "cell_type": "code",
      "source": [
        "#K-loop\n",
        "for k in range(1,15,31):\n",
        "  pca = PCA(n_components=k)\n",
        "  principalComponents = pca.fit_transform(x)\n",
        "  principalDf = pd.DataFrame(data = principalComponents, columns = [*range(1,k+1)])\n",
        "  finaldf = pd.concat([principalDf, cancer[['test']]], axis=1)\n",
        "  outcome = finaldf.pop(\"test\")\n",
        "\n",
        "  Xfinal_2 = finaldf.values\n",
        "  Yfinal_2 = outcome.values\n",
        "  X_train, X_test, Y_train, Y_test = train_test_split(Xfinal, Yfinal, test_size = 0.2, random_state = 0)\n",
        "  classifier.fit(X_train, Y_train)\n",
        "\n",
        "  Y_pred_5 = classifier.predict(X_test)\n",
        "\n",
        "  cf_matrix_5 = confusion_matrix(Y_test, Y_pred_5)"
      ],
      "metadata": {
        "id": "3PoAZOvk3S9p"
      },
      "execution_count": 3175,
      "outputs": []
    },
    {
      "cell_type": "code",
      "source": [
        "#PCA\n",
        "pca = PCA(n_components=k)\n",
        "principalComponents = pca.fit_transform(x)\n",
        "principalDf = pd.DataFrame(data = principalComponents, columns = [*range(1,k+1)])\n",
        "final_df =pd.concat([principalDf, cancer[['test']]], axis=1)\n",
        "\n",
        "Xfinal = final_df.values\n",
        "Yfinal = outcome.values\n",
        "X_train, X_test, Y_train, Y_test = train_test_split(Xfinal, Yfinal, test_size = 0.2, random_state = 0)\n",
        "classifier.fit(X_train, Y_train)"
      ],
      "metadata": {
        "colab": {
          "base_uri": "https://localhost:8080/",
          "height": 75
        },
        "id": "Da1tDybE3kyh",
        "outputId": "73121c28-607a-40aa-b676-16dea5d2ace2"
      },
      "execution_count": 3176,
      "outputs": [
        {
          "output_type": "execute_result",
          "data": {
            "text/plain": [
              "GaussianNB()"
            ],
            "text/html": [
              "<style>#sk-container-id-131 {color: black;background-color: white;}#sk-container-id-131 pre{padding: 0;}#sk-container-id-131 div.sk-toggleable {background-color: white;}#sk-container-id-131 label.sk-toggleable__label {cursor: pointer;display: block;width: 100%;margin-bottom: 0;padding: 0.3em;box-sizing: border-box;text-align: center;}#sk-container-id-131 label.sk-toggleable__label-arrow:before {content: \"▸\";float: left;margin-right: 0.25em;color: #696969;}#sk-container-id-131 label.sk-toggleable__label-arrow:hover:before {color: black;}#sk-container-id-131 div.sk-estimator:hover label.sk-toggleable__label-arrow:before {color: black;}#sk-container-id-131 div.sk-toggleable__content {max-height: 0;max-width: 0;overflow: hidden;text-align: left;background-color: #f0f8ff;}#sk-container-id-131 div.sk-toggleable__content pre {margin: 0.2em;color: black;border-radius: 0.25em;background-color: #f0f8ff;}#sk-container-id-131 input.sk-toggleable__control:checked~div.sk-toggleable__content {max-height: 200px;max-width: 100%;overflow: auto;}#sk-container-id-131 input.sk-toggleable__control:checked~label.sk-toggleable__label-arrow:before {content: \"▾\";}#sk-container-id-131 div.sk-estimator input.sk-toggleable__control:checked~label.sk-toggleable__label {background-color: #d4ebff;}#sk-container-id-131 div.sk-label input.sk-toggleable__control:checked~label.sk-toggleable__label {background-color: #d4ebff;}#sk-container-id-131 input.sk-hidden--visually {border: 0;clip: rect(1px 1px 1px 1px);clip: rect(1px, 1px, 1px, 1px);height: 1px;margin: -1px;overflow: hidden;padding: 0;position: absolute;width: 1px;}#sk-container-id-131 div.sk-estimator {font-family: monospace;background-color: #f0f8ff;border: 1px dotted black;border-radius: 0.25em;box-sizing: border-box;margin-bottom: 0.5em;}#sk-container-id-131 div.sk-estimator:hover {background-color: #d4ebff;}#sk-container-id-131 div.sk-parallel-item::after {content: \"\";width: 100%;border-bottom: 1px solid gray;flex-grow: 1;}#sk-container-id-131 div.sk-label:hover label.sk-toggleable__label {background-color: #d4ebff;}#sk-container-id-131 div.sk-serial::before {content: \"\";position: absolute;border-left: 1px solid gray;box-sizing: border-box;top: 0;bottom: 0;left: 50%;z-index: 0;}#sk-container-id-131 div.sk-serial {display: flex;flex-direction: column;align-items: center;background-color: white;padding-right: 0.2em;padding-left: 0.2em;position: relative;}#sk-container-id-131 div.sk-item {position: relative;z-index: 1;}#sk-container-id-131 div.sk-parallel {display: flex;align-items: stretch;justify-content: center;background-color: white;position: relative;}#sk-container-id-131 div.sk-item::before, #sk-container-id-131 div.sk-parallel-item::before {content: \"\";position: absolute;border-left: 1px solid gray;box-sizing: border-box;top: 0;bottom: 0;left: 50%;z-index: -1;}#sk-container-id-131 div.sk-parallel-item {display: flex;flex-direction: column;z-index: 1;position: relative;background-color: white;}#sk-container-id-131 div.sk-parallel-item:first-child::after {align-self: flex-end;width: 50%;}#sk-container-id-131 div.sk-parallel-item:last-child::after {align-self: flex-start;width: 50%;}#sk-container-id-131 div.sk-parallel-item:only-child::after {width: 0;}#sk-container-id-131 div.sk-dashed-wrapped {border: 1px dashed gray;margin: 0 0.4em 0.5em 0.4em;box-sizing: border-box;padding-bottom: 0.4em;background-color: white;}#sk-container-id-131 div.sk-label label {font-family: monospace;font-weight: bold;display: inline-block;line-height: 1.2em;}#sk-container-id-131 div.sk-label-container {text-align: center;}#sk-container-id-131 div.sk-container {/* jupyter's `normalize.less` sets `[hidden] { display: none; }` but bootstrap.min.css set `[hidden] { display: none !important; }` so we also need the `!important` here to be able to override the default hidden behavior on the sphinx rendered scikit-learn.org. See: https://github.com/scikit-learn/scikit-learn/issues/21755 */display: inline-block !important;position: relative;}#sk-container-id-131 div.sk-text-repr-fallback {display: none;}</style><div id=\"sk-container-id-131\" class=\"sk-top-container\"><div class=\"sk-text-repr-fallback\"><pre>GaussianNB()</pre><b>In a Jupyter environment, please rerun this cell to show the HTML representation or trust the notebook. <br />On GitHub, the HTML representation is unable to render, please try loading this page with nbviewer.org.</b></div><div class=\"sk-container\" hidden><div class=\"sk-item\"><div class=\"sk-estimator sk-toggleable\"><input class=\"sk-toggleable__control sk-hidden--visually\" id=\"sk-estimator-id-131\" type=\"checkbox\" checked><label for=\"sk-estimator-id-131\" class=\"sk-toggleable__label sk-toggleable__label-arrow\">GaussianNB</label><div class=\"sk-toggleable__content\"><pre>GaussianNB()</pre></div></div></div></div></div>"
            ]
          },
          "metadata": {},
          "execution_count": 3176
        }
      ]
    },
    {
      "cell_type": "code",
      "source": [
        "Y_pred_5 = classifier.predict(X_test)\n",
        "cf_matrix_5 = confusion_matrix(Y_test, Y_pred_5)\n",
        "\n",
        "#Metrics\n",
        "print(\"Accuracy:\",metrics.accuracy_score(Y_test,Y_pred_5))\n",
        "print(\"Precision:\",metrics.precision_score(Y_test,Y_pred_5))\n",
        "print(\"Recall:\",metrics.recall_score(Y_test,Y_pred_5))\n",
        "print(\"F1 Score:\", metrics.f1_score(Y_test,Y_pred_5))\n",
        "print(\"Final k: \", k)"
      ],
      "metadata": {
        "colab": {
          "base_uri": "https://localhost:8080/"
        },
        "id": "2B63-qai36ry",
        "outputId": "c047a699-8f65-4d4e-fad5-de30f64b498e"
      },
      "execution_count": 3177,
      "outputs": [
        {
          "output_type": "stream",
          "name": "stdout",
          "text": [
            "Accuracy: 1.0\n",
            "Precision: 1.0\n",
            "Recall: 1.0\n",
            "F1 Score: 1.0\n",
            "Final k:  1\n"
          ]
        }
      ]
    },
    {
      "cell_type": "code",
      "source": [
        "class_names=[0,1] # name  of classes\n",
        "fig, ax = plt.subplots()\n",
        "tick_marks = np.arange(len(class_names))\n",
        "plt.xticks(tick_marks, class_names)\n",
        "plt.yticks(tick_marks, class_names)\n",
        "# create heatmap\n",
        "sns.heatmap(pd.DataFrame(cf_matrix_5), annot=True, cmap=\"YlGnBu\" ,fmt='g')\n",
        "ax.xaxis.set_label_position(\"top\")\n",
        "plt.tight_layout()\n",
        "plt.title('Confusion matrix', y=1.1)\n",
        "plt.ylabel('Actual label')\n",
        "plt.xlabel('Predicted label')"
      ],
      "metadata": {
        "colab": {
          "base_uri": "https://localhost:8080/",
          "height": 568
        },
        "id": "-1x5PQ686Pa0",
        "outputId": "dd8780d1-ca79-42a1-a9fb-b3afa255f7da"
      },
      "execution_count": 3178,
      "outputs": [
        {
          "output_type": "execute_result",
          "data": {
            "text/plain": [
              "Text(0.5, 427.9555555555555, 'Predicted label')"
            ]
          },
          "metadata": {},
          "execution_count": 3178
        },
        {
          "output_type": "display_data",
          "data": {
            "text/plain": [
              "<Figure size 640x480 with 2 Axes>"
            ],
            "image/png": "[encoded data removed]"
          },
          "metadata": {}
        }
      ]
    }
  ]
}